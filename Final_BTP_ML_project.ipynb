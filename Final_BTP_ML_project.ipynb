{
  "nbformat": 4,
  "nbformat_minor": 0,
  "metadata": {
    "colab": {
      "provenance": [],
      "authorship_tag": "ABX9TyPFOM/o5fjg1RK04uWCOjZN",
      "include_colab_link": true
    },
    "kernelspec": {
      "name": "python3",
      "display_name": "Python 3"
    },
    "language_info": {
      "name": "python"
    }
  },
  "cells": [
    {
      "cell_type": "markdown",
      "metadata": {
        "id": "view-in-github",
        "colab_type": "text"
      },
      "source": [
        "<a href=\"https://colab.research.google.com/github/Chandra2205/perkinson-disease_ML/blob/main/Final_BTP_ML_project.ipynb\" target=\"_parent\"><img src=\"https://colab.research.google.com/assets/colab-badge.svg\" alt=\"Open In Colab\"/></a>"
      ]
    },
    {
      "cell_type": "code",
      "execution_count": null,
      "metadata": {
        "colab": {
          "base_uri": "https://localhost:8080/"
        },
        "id": "kfyc-xaRiDGA",
        "outputId": "943001c3-6ffd-49d0-d3c7-8c6824060b1f"
      },
      "outputs": [
        {
          "output_type": "stream",
          "name": "stdout",
          "text": [
            "Looking in indexes: https://pypi.org/simple, https://us-python.pkg.dev/colab-wheels/public/simple/\n",
            "Requirement already satisfied: catboost in /usr/local/lib/python3.7/dist-packages (1.1.1)\n",
            "Requirement already satisfied: plotly in /usr/local/lib/python3.7/dist-packages (from catboost) (5.5.0)\n",
            "Requirement already satisfied: pandas>=0.24.0 in /usr/local/lib/python3.7/dist-packages (from catboost) (1.3.5)\n",
            "Requirement already satisfied: numpy>=1.16.0 in /usr/local/lib/python3.7/dist-packages (from catboost) (1.21.6)\n",
            "Requirement already satisfied: graphviz in /usr/local/lib/python3.7/dist-packages (from catboost) (0.10.1)\n",
            "Requirement already satisfied: scipy in /usr/local/lib/python3.7/dist-packages (from catboost) (1.7.3)\n",
            "Requirement already satisfied: matplotlib in /usr/local/lib/python3.7/dist-packages (from catboost) (3.2.2)\n",
            "Requirement already satisfied: six in /usr/local/lib/python3.7/dist-packages (from catboost) (1.15.0)\n",
            "Requirement already satisfied: pytz>=2017.3 in /usr/local/lib/python3.7/dist-packages (from pandas>=0.24.0->catboost) (2022.6)\n",
            "Requirement already satisfied: python-dateutil>=2.7.3 in /usr/local/lib/python3.7/dist-packages (from pandas>=0.24.0->catboost) (2.8.2)\n",
            "Requirement already satisfied: pyparsing!=2.0.4,!=2.1.2,!=2.1.6,>=2.0.1 in /usr/local/lib/python3.7/dist-packages (from matplotlib->catboost) (3.0.9)\n",
            "Requirement already satisfied: kiwisolver>=1.0.1 in /usr/local/lib/python3.7/dist-packages (from matplotlib->catboost) (1.4.4)\n",
            "Requirement already satisfied: cycler>=0.10 in /usr/local/lib/python3.7/dist-packages (from matplotlib->catboost) (0.11.0)\n",
            "Requirement already satisfied: typing-extensions in /usr/local/lib/python3.7/dist-packages (from kiwisolver>=1.0.1->matplotlib->catboost) (4.1.1)\n",
            "Requirement already satisfied: tenacity>=6.2.0 in /usr/local/lib/python3.7/dist-packages (from plotly->catboost) (8.1.0)\n"
          ]
        }
      ],
      "source": [
        "!pip install catboost\n",
        "#CatBoost is a fast, scalable, high performance gradient boosting on decision trees library.\n",
        "#Used for ranking, classification, regression and other ML tasks."
      ]
    },
    {
      "cell_type": "code",
      "source": [
        "#GENERAL\n",
        "import pandas as pd\n",
        "import numpy as np\n",
        "import seaborn as sns     #data visualization library built on top of Matplotlib.\n",
        "import matplotlib.pyplot as plt\n",
        "#PATH PROCESS\n",
        "import os\n",
        "import os.path\n",
        "from pathlib import Path\n",
        "import glob\n",
        "#IMAGE PROCESS\n",
        "from PIL import Image\n",
        "from keras.preprocessing import image#In Keras, load_img() function is used to load image\n",
        "from tensorflow.keras.preprocessing.image import ImageDataGenerator\n",
        "import cv2\n",
        "#SCALER & TRANSFORMATION\n",
        "from sklearn.preprocessing import StandardScaler#a feature by subtracting the mean and then scaling to unit variance\n",
        "from sklearn.preprocessing import MinMaxScaler\n",
        "from keras.utils.np_utils import to_categorical\n",
        "from sklearn.model_selection import train_test_split\n",
        "from keras import regularizers#Regularizers allow you to apply penalties on layer parameters or layer activity during optimization.\n",
        "from sklearn.preprocessing import LabelEncoder # Encode target labels with value between 0 and n_classes-1. This transformer should be used to encode target values\n",
        "#ACCURACY CONTROL\n",
        "from sklearn.metrics import confusion_matrix, accuracy_score, classification_report, roc_auc_score, roc_curve\n",
        "from sklearn.model_selection import GridSearchCV, cross_val_score\n",
        "from sklearn.metrics import mean_squared_error, r2_score\n",
        "#OPTIMIZER\n",
        "from keras.optimizers import RMSprop,Adam,Optimizer,Optimizer\n",
        "#MODEL LAYERS\n",
        "from tensorflow.keras.models import Sequential\n",
        "from keras.layers import Dense, Dropout, Flatten, Conv2D, MaxPool2D, BatchNormalization,MaxPooling2D,BatchNormalization,\\\n",
        "                        Permute, TimeDistributed, Bidirectional,GRU, SimpleRNN, LSTM, GlobalAveragePooling2D, SeparableConv2D\n",
        "from keras import models\n",
        "from keras import layers\n",
        "import tensorflow as tf\n",
        "from keras.applications import VGG16,VGG19,inception_v3\n",
        "from keras import backend as K\n",
        "from keras.utils import plot_model\n",
        "#SKLEARN CLASSIFIER\n",
        "from xgboost import XGBClassifier, XGBRegressor\n",
        "from lightgbm import LGBMClassifier, LGBMRegressor\n",
        "from catboost import CatBoostClassifier, CatBoostRegressor\n",
        "from sklearn.linear_model import LogisticRegression\n",
        "from sklearn.naive_bayes import GaussianNB\n",
        "from sklearn.ensemble import RandomForestClassifier, RandomForestRegressor\n",
        "from sklearn.ensemble import GradientBoostingClassifier, GradientBoostingRegressor\n",
        "from sklearn.ensemble import BaggingRegressor\n",
        "from sklearn.tree import DecisionTreeClassifier, DecisionTreeRegressor\n",
        "from sklearn.neural_network import MLPClassifier, MLPRegressor\n",
        "from sklearn.neighbors import KNeighborsClassifier, KNeighborsRegressor\n",
        "from sklearn.linear_model import LinearRegression\n",
        "from sklearn.cross_decomposition import PLSRegression\n",
        "from sklearn.linear_model import Ridge\n",
        "from sklearn.linear_model import RidgeCV\n",
        "from sklearn.linear_model import Lasso\n",
        "from sklearn.linear_model import LassoCV\n",
        "from sklearn.linear_model import ElasticNet\n",
        "from sklearn.linear_model import ElasticNetCV\n",
        "\n",
        "#IGNORING WARNINGS\n",
        "from warnings import filterwarnings\n",
        "filterwarnings(\"ignore\",category=DeprecationWarning)\n",
        "filterwarnings(\"ignore\", category=FutureWarning)\n",
        "filterwarnings(\"ignore\", category=UserWarning)"
      ],
      "metadata": {
        "id": "COTfPRCXiaCD"
      },
      "execution_count": null,
      "outputs": []
    },
    {
      "cell_type": "code",
      "source": [
        "!unzip \"/content/BTP.zip\""
      ],
      "metadata": {
        "colab": {
          "base_uri": "https://localhost:8080/"
        },
        "id": "-32lnAi1ioUB",
        "outputId": "528d724c-2564-47e4-fbe1-3f524c78d6b5"
      },
      "execution_count": null,
      "outputs": [
        {
          "output_type": "stream",
          "name": "stdout",
          "text": [
            "Archive:  /content/BTP.zip\n",
            "   creating: BTP/\n",
            "  inflating: BTP/ICACT48636.2020.9061497.pdf  \n",
            "  inflating: BTP/202004021910156883ajay_misra_geo_Digital_Image_Enhancement.pdf  \n",
            "  inflating: BTP/Image Enhancement in Spatial Domain.pdf  \n",
            "  inflating: BTP/Article18.pdf       \n",
            "  inflating: BTP/1003.4053.pdf       \n",
            "   creating: BTP/dataset/\n",
            "  inflating: BTP/dataset/archive.zip  \n"
          ]
        }
      ]
    },
    {
      "cell_type": "code",
      "source": [
        "!unzip /content/BTP/dataset/archive.zip"
      ],
      "metadata": {
        "colab": {
          "base_uri": "https://localhost:8080/"
        },
        "id": "VVHLTg66itFX",
        "outputId": "fff1107c-31fc-4b8c-d3c8-4b8bd57041f2"
      },
      "execution_count": null,
      "outputs": [
        {
          "output_type": "stream",
          "name": "stdout",
          "text": [
            "Archive:  /content/BTP/dataset/archive.zip\n",
            "  inflating: drawings/spiral/testing/healthy/V01HE01.png  \n",
            "  inflating: drawings/spiral/testing/healthy/V02HE01.png  \n",
            "  inflating: drawings/spiral/testing/healthy/V03HE1.png  \n",
            "  inflating: drawings/spiral/testing/healthy/V04HE01.png  \n",
            "  inflating: drawings/spiral/testing/healthy/V05HE01.png  \n",
            "  inflating: drawings/spiral/testing/healthy/V06HE01.png  \n",
            "  inflating: drawings/spiral/testing/healthy/V07HE01.png  \n",
            "  inflating: drawings/spiral/testing/healthy/V08HE01.png  \n",
            "  inflating: drawings/spiral/testing/healthy/V09HE01.png  \n",
            "  inflating: drawings/spiral/testing/healthy/V10HE01.png  \n",
            "  inflating: drawings/spiral/testing/healthy/V11HE01.png  \n",
            "  inflating: drawings/spiral/testing/healthy/V55HE12.png  \n",
            "  inflating: drawings/spiral/testing/healthy/V55HE13.png  \n",
            "  inflating: drawings/spiral/testing/healthy/V55HE14.png  \n",
            "  inflating: drawings/spiral/testing/healthy/V55HE15.png  \n",
            "  inflating: drawings/spiral/testing/parkinson/V01PE01.png  \n",
            "  inflating: drawings/spiral/testing/parkinson/V02PE01.png  \n",
            "  inflating: drawings/spiral/testing/parkinson/V03PE01.png  \n",
            "  inflating: drawings/spiral/testing/parkinson/V03PE04.png  \n",
            "  inflating: drawings/spiral/testing/parkinson/V03PE07.png  \n",
            "  inflating: drawings/spiral/testing/parkinson/V04PE01.png  \n",
            "  inflating: drawings/spiral/testing/parkinson/V05PE01.png  \n",
            "  inflating: drawings/spiral/testing/parkinson/V06PE01.png  \n",
            "  inflating: drawings/spiral/testing/parkinson/V07PE01.png  \n",
            "  inflating: drawings/spiral/testing/parkinson/V08PE01.png  \n",
            "  inflating: drawings/spiral/testing/parkinson/V09PE01.png  \n",
            "  inflating: drawings/spiral/testing/parkinson/V10PE03.png  \n",
            "  inflating: drawings/spiral/testing/parkinson/V11PE03.png  \n",
            "  inflating: drawings/spiral/testing/parkinson/V14PE03.png  \n",
            "  inflating: drawings/spiral/testing/parkinson/V15PE01.png  \n",
            "  inflating: drawings/spiral/training/healthy/V01HE02.png  \n",
            "  inflating: drawings/spiral/training/healthy/V01HE03.png  \n",
            "  inflating: drawings/spiral/training/healthy/V02HE02.png  \n",
            "  inflating: drawings/spiral/training/healthy/V02HE03.png  \n",
            "  inflating: drawings/spiral/training/healthy/V03HE2.png  \n",
            "  inflating: drawings/spiral/training/healthy/V03HE3.png  \n",
            "  inflating: drawings/spiral/training/healthy/V04HE02.png  \n",
            "  inflating: drawings/spiral/training/healthy/V04HE03.png  \n",
            "  inflating: drawings/spiral/training/healthy/V05HE02.png  \n",
            "  inflating: drawings/spiral/training/healthy/V05HE03.png  \n",
            "  inflating: drawings/spiral/training/healthy/V06HE02.png  \n",
            "  inflating: drawings/spiral/training/healthy/V06HE03.png  \n",
            "  inflating: drawings/spiral/training/healthy/V07HE02.png  \n",
            "  inflating: drawings/spiral/training/healthy/V07HE03.png  \n",
            "  inflating: drawings/spiral/training/healthy/V08HE02.png  \n",
            "  inflating: drawings/spiral/training/healthy/V08HE03.png  \n",
            "  inflating: drawings/spiral/training/healthy/V09HE02.png  \n",
            "  inflating: drawings/spiral/training/healthy/V09HE03.png  \n",
            "  inflating: drawings/spiral/training/healthy/V10HE02.png  \n",
            "  inflating: drawings/spiral/training/healthy/V10HE03.png  \n",
            "  inflating: drawings/spiral/training/healthy/V11HE02.png  \n",
            "  inflating: drawings/spiral/training/healthy/V11HE03.png  \n",
            "  inflating: drawings/spiral/training/healthy/V12HE01.png  \n",
            "  inflating: drawings/spiral/training/healthy/V12HE02.png  \n",
            "  inflating: drawings/spiral/training/healthy/V12HE03.png  \n",
            "  inflating: drawings/spiral/training/healthy/V55HE01.png  \n",
            "  inflating: drawings/spiral/training/healthy/V55HE02.png  \n",
            "  inflating: drawings/spiral/training/healthy/V55HE03.png  \n",
            "  inflating: drawings/spiral/training/healthy/V55HE04.png  \n",
            "  inflating: drawings/spiral/training/healthy/V55HE05.png  \n",
            "  inflating: drawings/spiral/training/healthy/V55HE06.png  \n",
            "  inflating: drawings/spiral/training/healthy/V55HE07.png  \n",
            "  inflating: drawings/spiral/training/healthy/V55HE08.png  \n",
            "  inflating: drawings/spiral/training/healthy/V55HE09.png  \n",
            "  inflating: drawings/spiral/training/healthy/V55HE10.png  \n",
            "  inflating: drawings/spiral/training/healthy/V55HE11.png  \n",
            "  inflating: drawings/spiral/training/parkinson/V01PE02.png  \n",
            "  inflating: drawings/spiral/training/parkinson/V01PE03.png  \n",
            "  inflating: drawings/spiral/training/parkinson/V02PE02.png  \n",
            "  inflating: drawings/spiral/training/parkinson/V02PE03.png  \n",
            "  inflating: drawings/spiral/training/parkinson/V03PE02.png  \n",
            "  inflating: drawings/spiral/training/parkinson/V03PE03.png  \n",
            "  inflating: drawings/spiral/training/parkinson/V03PE05.png  \n",
            "  inflating: drawings/spiral/training/parkinson/V03PE06.png  \n",
            "  inflating: drawings/spiral/training/parkinson/V03PE08.png  \n",
            "  inflating: drawings/spiral/training/parkinson/V03PE09.png  \n",
            "  inflating: drawings/spiral/training/parkinson/V04PE02.png  \n",
            "  inflating: drawings/spiral/training/parkinson/V04PE03.png  \n",
            "  inflating: drawings/spiral/training/parkinson/V05PE02.png  \n",
            "  inflating: drawings/spiral/training/parkinson/V05PE03.png  \n",
            "  inflating: drawings/spiral/training/parkinson/V06PE02.png  \n",
            "  inflating: drawings/spiral/training/parkinson/V06PE03.png  \n",
            "  inflating: drawings/spiral/training/parkinson/V07PE02.png  \n",
            "  inflating: drawings/spiral/training/parkinson/V07PE03.png  \n",
            "  inflating: drawings/spiral/training/parkinson/V08PE02.png  \n",
            "  inflating: drawings/spiral/training/parkinson/V08PE03.png  \n",
            "  inflating: drawings/spiral/training/parkinson/V09PE02.png  \n",
            "  inflating: drawings/spiral/training/parkinson/V09PE03.png  \n",
            "  inflating: drawings/spiral/training/parkinson/V10PE01.png  \n",
            "  inflating: drawings/spiral/training/parkinson/V10PE02.png  \n",
            "  inflating: drawings/spiral/training/parkinson/V11PE01.png  \n",
            "  inflating: drawings/spiral/training/parkinson/V11PE02.png  \n",
            "  inflating: drawings/spiral/training/parkinson/V12PE01.png  \n",
            "  inflating: drawings/spiral/training/parkinson/V12PE02.png  \n",
            "  inflating: drawings/spiral/training/parkinson/V12PE03.png  \n",
            "  inflating: drawings/spiral/training/parkinson/V13PE01.png  \n",
            "  inflating: drawings/spiral/training/parkinson/V13PE02.png  \n",
            "  inflating: drawings/spiral/training/parkinson/V13PE03.png  \n",
            "  inflating: drawings/spiral/training/parkinson/V14PE01.png  \n",
            "  inflating: drawings/spiral/training/parkinson/V14PE02.png  \n",
            "  inflating: drawings/spiral/training/parkinson/V15PE02.png  \n",
            "  inflating: drawings/spiral/training/parkinson/V15PE03.png  \n",
            "  inflating: drawings/wave/testing/healthy/V01HO01.png  \n",
            "  inflating: drawings/wave/testing/healthy/V02HO01.png  \n",
            "  inflating: drawings/wave/testing/healthy/V03HO01.png  \n",
            "  inflating: drawings/wave/testing/healthy/V04HO01.png  \n",
            "  inflating: drawings/wave/testing/healthy/V05HO01.png  \n",
            "  inflating: drawings/wave/testing/healthy/V06HO01.png  \n",
            "  inflating: drawings/wave/testing/healthy/V07HO01.png  \n",
            "  inflating: drawings/wave/testing/healthy/V08HO01.png  \n",
            "  inflating: drawings/wave/testing/healthy/V09HO01.png  \n",
            "  inflating: drawings/wave/testing/healthy/V10HO01.png  \n",
            "  inflating: drawings/wave/testing/healthy/V11HO01.png  \n",
            "  inflating: drawings/wave/testing/healthy/V55HO08.png  \n",
            "  inflating: drawings/wave/testing/healthy/V55HO09.png  \n",
            "  inflating: drawings/wave/testing/healthy/V55HO10.png  \n",
            "  inflating: drawings/wave/testing/healthy/V55HO11.png  \n",
            "  inflating: drawings/wave/testing/parkinson/V01PO01.png  \n",
            "  inflating: drawings/wave/testing/parkinson/V02PO01.png  \n",
            "  inflating: drawings/wave/testing/parkinson/V03PO01.png  \n",
            "  inflating: drawings/wave/testing/parkinson/V03PO04.png  \n",
            "  inflating: drawings/wave/testing/parkinson/V03PO07.png  \n",
            "  inflating: drawings/wave/testing/parkinson/V04PO01.png  \n",
            "  inflating: drawings/wave/testing/parkinson/V05PO01.png  \n",
            "  inflating: drawings/wave/testing/parkinson/V06PO01.png  \n",
            "  inflating: drawings/wave/testing/parkinson/V07PO01.png  \n",
            "  inflating: drawings/wave/testing/parkinson/V08PO01.png  \n",
            "  inflating: drawings/wave/testing/parkinson/V09PO01.png  \n",
            "  inflating: drawings/wave/testing/parkinson/V10PO01.png  \n",
            "  inflating: drawings/wave/testing/parkinson/V11PO01.png  \n",
            "  inflating: drawings/wave/testing/parkinson/V14PO01.png  \n",
            "  inflating: drawings/wave/testing/parkinson/V14PO03.png  \n",
            "  inflating: drawings/wave/training/healthy/V01HO02.png  \n",
            "  inflating: drawings/wave/training/healthy/V01HO03.png  \n",
            "  inflating: drawings/wave/training/healthy/V02HO02.png  \n",
            "  inflating: drawings/wave/training/healthy/V02HO03.png  \n",
            "  inflating: drawings/wave/training/healthy/V03HO02.png  \n",
            "  inflating: drawings/wave/training/healthy/V03HO03.png  \n",
            "  inflating: drawings/wave/training/healthy/V04HO02.png  \n",
            "  inflating: drawings/wave/training/healthy/V04HO03.png  \n",
            "  inflating: drawings/wave/training/healthy/V05HO02.png  \n",
            "  inflating: drawings/wave/training/healthy/V05HO03.png  \n",
            "  inflating: drawings/wave/training/healthy/V06HO02.png  \n",
            "  inflating: drawings/wave/training/healthy/V06HO03.png  \n",
            "  inflating: drawings/wave/training/healthy/V07HO02.png  \n",
            "  inflating: drawings/wave/training/healthy/V07HO03.png  \n",
            "  inflating: drawings/wave/training/healthy/V08HO02.png  \n",
            "  inflating: drawings/wave/training/healthy/V08HO03.png  \n",
            "  inflating: drawings/wave/training/healthy/V09HO02.png  \n",
            "  inflating: drawings/wave/training/healthy/V09HO03.png  \n",
            "  inflating: drawings/wave/training/healthy/V10HO02.png  \n",
            "  inflating: drawings/wave/training/healthy/V10HO03.png  \n",
            "  inflating: drawings/wave/training/healthy/V11HO02.png  \n",
            "  inflating: drawings/wave/training/healthy/V11HO03.png  \n",
            "  inflating: drawings/wave/training/healthy/V12HO01.png  \n",
            "  inflating: drawings/wave/training/healthy/V12HO02.png  \n",
            "  inflating: drawings/wave/training/healthy/V12HO03.png  \n",
            "  inflating: drawings/wave/training/healthy/V55HO01.png  \n",
            "  inflating: drawings/wave/training/healthy/V55HO02.png  \n",
            "  inflating: drawings/wave/training/healthy/V55HO03.png  \n",
            "  inflating: drawings/wave/training/healthy/V55HO04.png  \n",
            "  inflating: drawings/wave/training/healthy/V55HO05.png  \n",
            "  inflating: drawings/wave/training/healthy/V55HO06.png  \n",
            "  inflating: drawings/wave/training/healthy/V55HO07.png  \n",
            "  inflating: drawings/wave/training/healthy/V55HO12.png  \n",
            "  inflating: drawings/wave/training/healthy/V55HO13.png  \n",
            "  inflating: drawings/wave/training/healthy/V55HO14.png  \n",
            "  inflating: drawings/wave/training/healthy/V55HO15.png  \n",
            "  inflating: drawings/wave/training/parkinson/V01PO02.png  \n",
            "  inflating: drawings/wave/training/parkinson/V01PO03.png  \n",
            "  inflating: drawings/wave/training/parkinson/V02PO02.png  \n",
            "  inflating: drawings/wave/training/parkinson/V02PO03.png  \n",
            "  inflating: drawings/wave/training/parkinson/V03PO02.png  \n",
            "  inflating: drawings/wave/training/parkinson/V03PO03.png  \n",
            "  inflating: drawings/wave/training/parkinson/V03PO05.png  \n",
            "  inflating: drawings/wave/training/parkinson/V03PO06.png  \n",
            "  inflating: drawings/wave/training/parkinson/V03PO08.png  \n",
            "  inflating: drawings/wave/training/parkinson/V03PO09.png  \n",
            "  inflating: drawings/wave/training/parkinson/V04PO02.png  \n",
            "  inflating: drawings/wave/training/parkinson/V04PO03.png  \n",
            "  inflating: drawings/wave/training/parkinson/V05PO02.png  \n",
            "  inflating: drawings/wave/training/parkinson/V05PO03.png  \n",
            "  inflating: drawings/wave/training/parkinson/V06PO02.png  \n",
            "  inflating: drawings/wave/training/parkinson/V06PO03.png  \n",
            "  inflating: drawings/wave/training/parkinson/V07PO02.png  \n",
            "  inflating: drawings/wave/training/parkinson/V07PO03.png  \n",
            "  inflating: drawings/wave/training/parkinson/V08PO02.png  \n",
            "  inflating: drawings/wave/training/parkinson/V08PO03.png  \n",
            "  inflating: drawings/wave/training/parkinson/V09PO02.png  \n",
            "  inflating: drawings/wave/training/parkinson/V09PO03.png  \n",
            "  inflating: drawings/wave/training/parkinson/V10PO02.png  \n",
            "  inflating: drawings/wave/training/parkinson/V10PO03.png  \n",
            "  inflating: drawings/wave/training/parkinson/V11PO02.png  \n",
            "  inflating: drawings/wave/training/parkinson/V11PO03.png  \n",
            "  inflating: drawings/wave/training/parkinson/V12PO01.png  \n",
            "  inflating: drawings/wave/training/parkinson/V12PO02.png  \n",
            "  inflating: drawings/wave/training/parkinson/V12PO03.png  \n",
            "  inflating: drawings/wave/training/parkinson/V13PO01.png  \n",
            "  inflating: drawings/wave/training/parkinson/V13PO02.png  \n",
            "  inflating: drawings/wave/training/parkinson/V13PO03.png  \n",
            "  inflating: drawings/wave/training/parkinson/V14PO02.png  \n",
            "  inflating: drawings/wave/training/parkinson/V15PO01.png  \n",
            "  inflating: drawings/wave/training/parkinson/V15PO02.png  \n",
            "  inflating: drawings/wave/training/parkinson/V15PO03.png  \n",
            "  inflating: spiral/testing/healthy/V01HE01.png  \n",
            "  inflating: spiral/testing/healthy/V02HE01.png  \n",
            "  inflating: spiral/testing/healthy/V03HE1.png  \n",
            "  inflating: spiral/testing/healthy/V04HE01.png  \n",
            "  inflating: spiral/testing/healthy/V05HE01.png  \n",
            "  inflating: spiral/testing/healthy/V06HE01.png  \n",
            "  inflating: spiral/testing/healthy/V07HE01.png  \n",
            "  inflating: spiral/testing/healthy/V08HE01.png  \n",
            "  inflating: spiral/testing/healthy/V09HE01.png  \n",
            "  inflating: spiral/testing/healthy/V10HE01.png  \n",
            "  inflating: spiral/testing/healthy/V11HE01.png  \n",
            "  inflating: spiral/testing/healthy/V55HE12.png  \n",
            "  inflating: spiral/testing/healthy/V55HE13.png  \n",
            "  inflating: spiral/testing/healthy/V55HE14.png  \n",
            "  inflating: spiral/testing/healthy/V55HE15.png  \n",
            "  inflating: spiral/testing/parkinson/V01PE01.png  \n",
            "  inflating: spiral/testing/parkinson/V02PE01.png  \n",
            "  inflating: spiral/testing/parkinson/V03PE01.png  \n",
            "  inflating: spiral/testing/parkinson/V03PE04.png  \n",
            "  inflating: spiral/testing/parkinson/V03PE07.png  \n",
            "  inflating: spiral/testing/parkinson/V04PE01.png  \n",
            "  inflating: spiral/testing/parkinson/V05PE01.png  \n",
            "  inflating: spiral/testing/parkinson/V06PE01.png  \n",
            "  inflating: spiral/testing/parkinson/V07PE01.png  \n",
            "  inflating: spiral/testing/parkinson/V08PE01.png  \n",
            "  inflating: spiral/testing/parkinson/V09PE01.png  \n",
            "  inflating: spiral/testing/parkinson/V10PE03.png  \n",
            "  inflating: spiral/testing/parkinson/V11PE03.png  \n",
            "  inflating: spiral/testing/parkinson/V14PE03.png  \n",
            "  inflating: spiral/testing/parkinson/V15PE01.png  \n",
            "  inflating: spiral/training/healthy/V01HE02.png  \n",
            "  inflating: spiral/training/healthy/V01HE03.png  \n",
            "  inflating: spiral/training/healthy/V02HE02.png  \n",
            "  inflating: spiral/training/healthy/V02HE03.png  \n",
            "  inflating: spiral/training/healthy/V03HE2.png  \n",
            "  inflating: spiral/training/healthy/V03HE3.png  \n",
            "  inflating: spiral/training/healthy/V04HE02.png  \n",
            "  inflating: spiral/training/healthy/V04HE03.png  \n",
            "  inflating: spiral/training/healthy/V05HE02.png  \n",
            "  inflating: spiral/training/healthy/V05HE03.png  \n",
            "  inflating: spiral/training/healthy/V06HE02.png  \n",
            "  inflating: spiral/training/healthy/V06HE03.png  \n",
            "  inflating: spiral/training/healthy/V07HE02.png  \n",
            "  inflating: spiral/training/healthy/V07HE03.png  \n",
            "  inflating: spiral/training/healthy/V08HE02.png  \n",
            "  inflating: spiral/training/healthy/V08HE03.png  \n",
            "  inflating: spiral/training/healthy/V09HE02.png  \n",
            "  inflating: spiral/training/healthy/V09HE03.png  \n",
            "  inflating: spiral/training/healthy/V10HE02.png  \n",
            "  inflating: spiral/training/healthy/V10HE03.png  \n",
            "  inflating: spiral/training/healthy/V11HE02.png  \n",
            "  inflating: spiral/training/healthy/V11HE03.png  \n",
            "  inflating: spiral/training/healthy/V12HE01.png  \n",
            "  inflating: spiral/training/healthy/V12HE02.png  \n",
            "  inflating: spiral/training/healthy/V12HE03.png  \n",
            "  inflating: spiral/training/healthy/V55HE01.png  \n",
            "  inflating: spiral/training/healthy/V55HE02.png  \n",
            "  inflating: spiral/training/healthy/V55HE03.png  \n",
            "  inflating: spiral/training/healthy/V55HE04.png  \n",
            "  inflating: spiral/training/healthy/V55HE05.png  \n",
            "  inflating: spiral/training/healthy/V55HE06.png  \n",
            "  inflating: spiral/training/healthy/V55HE07.png  \n",
            "  inflating: spiral/training/healthy/V55HE08.png  \n",
            "  inflating: spiral/training/healthy/V55HE09.png  \n",
            "  inflating: spiral/training/healthy/V55HE10.png  \n",
            "  inflating: spiral/training/healthy/V55HE11.png  \n",
            "  inflating: spiral/training/parkinson/V01PE02.png  \n",
            "  inflating: spiral/training/parkinson/V01PE03.png  \n",
            "  inflating: spiral/training/parkinson/V02PE02.png  \n",
            "  inflating: spiral/training/parkinson/V02PE03.png  \n",
            "  inflating: spiral/training/parkinson/V03PE02.png  \n",
            "  inflating: spiral/training/parkinson/V03PE03.png  \n",
            "  inflating: spiral/training/parkinson/V03PE05.png  \n",
            "  inflating: spiral/training/parkinson/V03PE06.png  \n",
            "  inflating: spiral/training/parkinson/V03PE08.png  \n",
            "  inflating: spiral/training/parkinson/V03PE09.png  \n",
            "  inflating: spiral/training/parkinson/V04PE02.png  \n",
            "  inflating: spiral/training/parkinson/V04PE03.png  \n",
            "  inflating: spiral/training/parkinson/V05PE02.png  \n",
            "  inflating: spiral/training/parkinson/V05PE03.png  \n",
            "  inflating: spiral/training/parkinson/V06PE02.png  \n",
            "  inflating: spiral/training/parkinson/V06PE03.png  \n",
            "  inflating: spiral/training/parkinson/V07PE02.png  \n",
            "  inflating: spiral/training/parkinson/V07PE03.png  \n",
            "  inflating: spiral/training/parkinson/V08PE02.png  \n",
            "  inflating: spiral/training/parkinson/V08PE03.png  \n",
            "  inflating: spiral/training/parkinson/V09PE02.png  \n",
            "  inflating: spiral/training/parkinson/V09PE03.png  \n",
            "  inflating: spiral/training/parkinson/V10PE01.png  \n",
            "  inflating: spiral/training/parkinson/V10PE02.png  \n",
            "  inflating: spiral/training/parkinson/V11PE01.png  \n",
            "  inflating: spiral/training/parkinson/V11PE02.png  \n",
            "  inflating: spiral/training/parkinson/V12PE01.png  \n",
            "  inflating: spiral/training/parkinson/V12PE02.png  \n",
            "  inflating: spiral/training/parkinson/V12PE03.png  \n",
            "  inflating: spiral/training/parkinson/V13PE01.png  \n",
            "  inflating: spiral/training/parkinson/V13PE02.png  \n",
            "  inflating: spiral/training/parkinson/V13PE03.png  \n",
            "  inflating: spiral/training/parkinson/V14PE01.png  \n",
            "  inflating: spiral/training/parkinson/V14PE02.png  \n",
            "  inflating: spiral/training/parkinson/V15PE02.png  \n",
            "  inflating: spiral/training/parkinson/V15PE03.png  \n",
            "  inflating: wave/testing/healthy/V01HO01.png  \n",
            "  inflating: wave/testing/healthy/V02HO01.png  \n",
            "  inflating: wave/testing/healthy/V03HO01.png  \n",
            "  inflating: wave/testing/healthy/V04HO01.png  \n",
            "  inflating: wave/testing/healthy/V05HO01.png  \n",
            "  inflating: wave/testing/healthy/V06HO01.png  \n",
            "  inflating: wave/testing/healthy/V07HO01.png  \n",
            "  inflating: wave/testing/healthy/V08HO01.png  \n",
            "  inflating: wave/testing/healthy/V09HO01.png  \n",
            "  inflating: wave/testing/healthy/V10HO01.png  \n",
            "  inflating: wave/testing/healthy/V11HO01.png  \n",
            "  inflating: wave/testing/healthy/V55HO08.png  \n",
            "  inflating: wave/testing/healthy/V55HO09.png  \n",
            "  inflating: wave/testing/healthy/V55HO10.png  \n",
            "  inflating: wave/testing/healthy/V55HO11.png  \n",
            "  inflating: wave/testing/parkinson/V01PO01.png  \n",
            "  inflating: wave/testing/parkinson/V02PO01.png  \n",
            "  inflating: wave/testing/parkinson/V03PO01.png  \n",
            "  inflating: wave/testing/parkinson/V03PO04.png  \n",
            "  inflating: wave/testing/parkinson/V03PO07.png  \n",
            "  inflating: wave/testing/parkinson/V04PO01.png  \n",
            "  inflating: wave/testing/parkinson/V05PO01.png  \n",
            "  inflating: wave/testing/parkinson/V06PO01.png  \n",
            "  inflating: wave/testing/parkinson/V07PO01.png  \n",
            "  inflating: wave/testing/parkinson/V08PO01.png  \n",
            "  inflating: wave/testing/parkinson/V09PO01.png  \n",
            "  inflating: wave/testing/parkinson/V10PO01.png  \n",
            "  inflating: wave/testing/parkinson/V11PO01.png  \n",
            "  inflating: wave/testing/parkinson/V14PO01.png  \n",
            "  inflating: wave/testing/parkinson/V14PO03.png  \n",
            "  inflating: wave/training/healthy/V01HO02.png  \n",
            "  inflating: wave/training/healthy/V01HO03.png  \n",
            "  inflating: wave/training/healthy/V02HO02.png  \n",
            "  inflating: wave/training/healthy/V02HO03.png  \n",
            "  inflating: wave/training/healthy/V03HO02.png  \n",
            "  inflating: wave/training/healthy/V03HO03.png  \n",
            "  inflating: wave/training/healthy/V04HO02.png  \n",
            "  inflating: wave/training/healthy/V04HO03.png  \n",
            "  inflating: wave/training/healthy/V05HO02.png  \n",
            "  inflating: wave/training/healthy/V05HO03.png  \n",
            "  inflating: wave/training/healthy/V06HO02.png  \n",
            "  inflating: wave/training/healthy/V06HO03.png  \n",
            "  inflating: wave/training/healthy/V07HO02.png  \n",
            "  inflating: wave/training/healthy/V07HO03.png  \n",
            "  inflating: wave/training/healthy/V08HO02.png  \n",
            "  inflating: wave/training/healthy/V08HO03.png  \n",
            "  inflating: wave/training/healthy/V09HO02.png  \n",
            "  inflating: wave/training/healthy/V09HO03.png  \n",
            "  inflating: wave/training/healthy/V10HO02.png  \n",
            "  inflating: wave/training/healthy/V10HO03.png  \n",
            "  inflating: wave/training/healthy/V11HO02.png  \n",
            "  inflating: wave/training/healthy/V11HO03.png  \n",
            "  inflating: wave/training/healthy/V12HO01.png  \n",
            "  inflating: wave/training/healthy/V12HO02.png  \n",
            "  inflating: wave/training/healthy/V12HO03.png  \n",
            "  inflating: wave/training/healthy/V55HO01.png  \n",
            "  inflating: wave/training/healthy/V55HO02.png  \n",
            "  inflating: wave/training/healthy/V55HO03.png  \n",
            "  inflating: wave/training/healthy/V55HO04.png  \n",
            "  inflating: wave/training/healthy/V55HO05.png  \n",
            "  inflating: wave/training/healthy/V55HO06.png  \n",
            "  inflating: wave/training/healthy/V55HO07.png  \n",
            "  inflating: wave/training/healthy/V55HO12.png  \n",
            "  inflating: wave/training/healthy/V55HO13.png  \n",
            "  inflating: wave/training/healthy/V55HO14.png  \n",
            "  inflating: wave/training/healthy/V55HO15.png  \n",
            "  inflating: wave/training/parkinson/V01PO02.png  \n",
            "  inflating: wave/training/parkinson/V01PO03.png  \n",
            "  inflating: wave/training/parkinson/V02PO02.png  \n",
            "  inflating: wave/training/parkinson/V02PO03.png  \n",
            "  inflating: wave/training/parkinson/V03PO02.png  \n",
            "  inflating: wave/training/parkinson/V03PO03.png  \n",
            "  inflating: wave/training/parkinson/V03PO05.png  \n",
            "  inflating: wave/training/parkinson/V03PO06.png  \n",
            "  inflating: wave/training/parkinson/V03PO08.png  \n",
            "  inflating: wave/training/parkinson/V03PO09.png  \n",
            "  inflating: wave/training/parkinson/V04PO02.png  \n",
            "  inflating: wave/training/parkinson/V04PO03.png  \n",
            "  inflating: wave/training/parkinson/V05PO02.png  \n",
            "  inflating: wave/training/parkinson/V05PO03.png  \n",
            "  inflating: wave/training/parkinson/V06PO02.png  \n",
            "  inflating: wave/training/parkinson/V06PO03.png  \n",
            "  inflating: wave/training/parkinson/V07PO02.png  \n",
            "  inflating: wave/training/parkinson/V07PO03.png  \n",
            "  inflating: wave/training/parkinson/V08PO02.png  \n",
            "  inflating: wave/training/parkinson/V08PO03.png  \n",
            "  inflating: wave/training/parkinson/V09PO02.png  \n",
            "  inflating: wave/training/parkinson/V09PO03.png  \n",
            "  inflating: wave/training/parkinson/V10PO02.png  \n",
            "  inflating: wave/training/parkinson/V10PO03.png  \n",
            "  inflating: wave/training/parkinson/V11PO02.png  \n",
            "  inflating: wave/training/parkinson/V11PO03.png  \n",
            "  inflating: wave/training/parkinson/V12PO01.png  \n",
            "  inflating: wave/training/parkinson/V12PO02.png  \n",
            "  inflating: wave/training/parkinson/V12PO03.png  \n",
            "  inflating: wave/training/parkinson/V13PO01.png  \n",
            "  inflating: wave/training/parkinson/V13PO02.png  \n",
            "  inflating: wave/training/parkinson/V13PO03.png  \n",
            "  inflating: wave/training/parkinson/V14PO02.png  \n",
            "  inflating: wave/training/parkinson/V15PO01.png  \n",
            "  inflating: wave/training/parkinson/V15PO02.png  \n",
            "  inflating: wave/training/parkinson/V15PO03.png  \n"
          ]
        }
      ]
    },
    {
      "cell_type": "code",
      "source": [
        "#TRAIN-TEST PATH\n",
        "Spiral_Train_Path = Path(\"/content/spiral/training\")\n",
        "Spiral_Test_Path = Path(\"/content/spiral/testing\")"
      ],
      "metadata": {
        "id": "zPyACI5sizI8"
      },
      "execution_count": null,
      "outputs": []
    },
    {
      "cell_type": "code",
      "source": [
        "#making in list\n",
        "Spiral_Train_PNG_Path = list(Spiral_Train_Path.glob(r\"*/*.png\"))\n",
        "Spiral_Test_PNG_Path = list(Spiral_Test_Path.glob(r\"*/*.png\"))"
      ],
      "metadata": {
        "id": "wyuFpEogi3LF"
      },
      "execution_count": null,
      "outputs": []
    },
    {
      "cell_type": "code",
      "source": [
        "#labels\n",
        "Spiral_Train_PNG_Labels = list(map(lambda x: os.path.split(os.path.split(x)[0])[1],Spiral_Train_PNG_Path))\n",
        "Spiral_Test_PNG_Labels = list(map(lambda x: os.path.split(os.path.split(x)[0])[1],Spiral_Test_PNG_Path))"
      ],
      "metadata": {
        "id": "_N6lZoBei6Uf"
      },
      "execution_count": null,
      "outputs": []
    },
    {
      "cell_type": "code",
      "source": [
        "#TRANSFORMATION TO SERIES STRUCTURE\n",
        "#spiral\n",
        "Spiral_Train_PNG_Path_Series = pd.Series(Spiral_Train_PNG_Path,name=\"PNG\").astype(str)\n",
        "Spiral_Train_PNG_Labels_Series = pd.Series(Spiral_Train_PNG_Labels,name=\"CATEGORY\")"
      ],
      "metadata": {
        "id": "X77uJ-TLi9Ms"
      },
      "execution_count": null,
      "outputs": []
    },
    {
      "cell_type": "code",
      "source": [
        "Spiral_Test_PNG_Path_Series = pd.Series(Spiral_Test_PNG_Path,name=\"PNG\").astype(str)\n",
        "Spiral_Test_PNG_Labels_Series = pd.Series(Spiral_Test_PNG_Labels,name=\"CATEGORY\")"
      ],
      "metadata": {
        "id": "LmbSOSQpi_2j"
      },
      "execution_count": null,
      "outputs": []
    },
    {
      "cell_type": "code",
      "source": [
        "# TRANSFORMATION TO DATAFRAME STRUCTURE\n",
        "#spiral\n",
        "Main_Spiral_Train_Data = pd.concat([Spiral_Train_PNG_Path_Series,Spiral_Train_PNG_Labels_Series],axis=1)"
      ],
      "metadata": {
        "id": "rDBEq0DwjCmc"
      },
      "execution_count": null,
      "outputs": []
    },
    {
      "cell_type": "code",
      "source": [
        "Main_Spiral_Train_Data"
      ],
      "metadata": {
        "colab": {
          "base_uri": "https://localhost:8080/",
          "height": 423
        },
        "id": "e1pCtZRujFcS",
        "outputId": "c422932d-924f-46de-afca-2311d42aa104"
      },
      "execution_count": null,
      "outputs": [
        {
          "output_type": "execute_result",
          "data": {
            "text/plain": [
              "                                               PNG   CATEGORY\n",
              "0     /content/spiral/training/healthy/V02HE02.png    healthy\n",
              "1     /content/spiral/training/healthy/V55HE06.png    healthy\n",
              "2     /content/spiral/training/healthy/V05HE03.png    healthy\n",
              "3     /content/spiral/training/healthy/V06HE02.png    healthy\n",
              "4     /content/spiral/training/healthy/V55HE09.png    healthy\n",
              "..                                             ...        ...\n",
              "67  /content/spiral/training/parkinson/V03PE03.png  parkinson\n",
              "68  /content/spiral/training/parkinson/V03PE09.png  parkinson\n",
              "69  /content/spiral/training/parkinson/V12PE02.png  parkinson\n",
              "70  /content/spiral/training/parkinson/V15PE02.png  parkinson\n",
              "71  /content/spiral/training/parkinson/V14PE01.png  parkinson\n",
              "\n",
              "[72 rows x 2 columns]"
            ],
            "text/html": [
              "\n",
              "  <div id=\"df-2eedc326-55ae-491e-afac-369e76445633\">\n",
              "    <div class=\"colab-df-container\">\n",
              "      <div>\n",
              "<style scoped>\n",
              "    .dataframe tbody tr th:only-of-type {\n",
              "        vertical-align: middle;\n",
              "    }\n",
              "\n",
              "    .dataframe tbody tr th {\n",
              "        vertical-align: top;\n",
              "    }\n",
              "\n",
              "    .dataframe thead th {\n",
              "        text-align: right;\n",
              "    }\n",
              "</style>\n",
              "<table border=\"1\" class=\"dataframe\">\n",
              "  <thead>\n",
              "    <tr style=\"text-align: right;\">\n",
              "      <th></th>\n",
              "      <th>PNG</th>\n",
              "      <th>CATEGORY</th>\n",
              "    </tr>\n",
              "  </thead>\n",
              "  <tbody>\n",
              "    <tr>\n",
              "      <th>0</th>\n",
              "      <td>/content/spiral/training/healthy/V02HE02.png</td>\n",
              "      <td>healthy</td>\n",
              "    </tr>\n",
              "    <tr>\n",
              "      <th>1</th>\n",
              "      <td>/content/spiral/training/healthy/V55HE06.png</td>\n",
              "      <td>healthy</td>\n",
              "    </tr>\n",
              "    <tr>\n",
              "      <th>2</th>\n",
              "      <td>/content/spiral/training/healthy/V05HE03.png</td>\n",
              "      <td>healthy</td>\n",
              "    </tr>\n",
              "    <tr>\n",
              "      <th>3</th>\n",
              "      <td>/content/spiral/training/healthy/V06HE02.png</td>\n",
              "      <td>healthy</td>\n",
              "    </tr>\n",
              "    <tr>\n",
              "      <th>4</th>\n",
              "      <td>/content/spiral/training/healthy/V55HE09.png</td>\n",
              "      <td>healthy</td>\n",
              "    </tr>\n",
              "    <tr>\n",
              "      <th>...</th>\n",
              "      <td>...</td>\n",
              "      <td>...</td>\n",
              "    </tr>\n",
              "    <tr>\n",
              "      <th>67</th>\n",
              "      <td>/content/spiral/training/parkinson/V03PE03.png</td>\n",
              "      <td>parkinson</td>\n",
              "    </tr>\n",
              "    <tr>\n",
              "      <th>68</th>\n",
              "      <td>/content/spiral/training/parkinson/V03PE09.png</td>\n",
              "      <td>parkinson</td>\n",
              "    </tr>\n",
              "    <tr>\n",
              "      <th>69</th>\n",
              "      <td>/content/spiral/training/parkinson/V12PE02.png</td>\n",
              "      <td>parkinson</td>\n",
              "    </tr>\n",
              "    <tr>\n",
              "      <th>70</th>\n",
              "      <td>/content/spiral/training/parkinson/V15PE02.png</td>\n",
              "      <td>parkinson</td>\n",
              "    </tr>\n",
              "    <tr>\n",
              "      <th>71</th>\n",
              "      <td>/content/spiral/training/parkinson/V14PE01.png</td>\n",
              "      <td>parkinson</td>\n",
              "    </tr>\n",
              "  </tbody>\n",
              "</table>\n",
              "<p>72 rows × 2 columns</p>\n",
              "</div>\n",
              "      <button class=\"colab-df-convert\" onclick=\"convertToInteractive('df-2eedc326-55ae-491e-afac-369e76445633')\"\n",
              "              title=\"Convert this dataframe to an interactive table.\"\n",
              "              style=\"display:none;\">\n",
              "        \n",
              "  <svg xmlns=\"http://www.w3.org/2000/svg\" height=\"24px\"viewBox=\"0 0 24 24\"\n",
              "       width=\"24px\">\n",
              "    <path d=\"M0 0h24v24H0V0z\" fill=\"none\"/>\n",
              "    <path d=\"M18.56 5.44l.94 2.06.94-2.06 2.06-.94-2.06-.94-.94-2.06-.94 2.06-2.06.94zm-11 1L8.5 8.5l.94-2.06 2.06-.94-2.06-.94L8.5 2.5l-.94 2.06-2.06.94zm10 10l.94 2.06.94-2.06 2.06-.94-2.06-.94-.94-2.06-.94 2.06-2.06.94z\"/><path d=\"M17.41 7.96l-1.37-1.37c-.4-.4-.92-.59-1.43-.59-.52 0-1.04.2-1.43.59L10.3 9.45l-7.72 7.72c-.78.78-.78 2.05 0 2.83L4 21.41c.39.39.9.59 1.41.59.51 0 1.02-.2 1.41-.59l7.78-7.78 2.81-2.81c.8-.78.8-2.07 0-2.86zM5.41 20L4 18.59l7.72-7.72 1.47 1.35L5.41 20z\"/>\n",
              "  </svg>\n",
              "      </button>\n",
              "      \n",
              "  <style>\n",
              "    .colab-df-container {\n",
              "      display:flex;\n",
              "      flex-wrap:wrap;\n",
              "      gap: 12px;\n",
              "    }\n",
              "\n",
              "    .colab-df-convert {\n",
              "      background-color: #E8F0FE;\n",
              "      border: none;\n",
              "      border-radius: 50%;\n",
              "      cursor: pointer;\n",
              "      display: none;\n",
              "      fill: #1967D2;\n",
              "      height: 32px;\n",
              "      padding: 0 0 0 0;\n",
              "      width: 32px;\n",
              "    }\n",
              "\n",
              "    .colab-df-convert:hover {\n",
              "      background-color: #E2EBFA;\n",
              "      box-shadow: 0px 1px 2px rgba(60, 64, 67, 0.3), 0px 1px 3px 1px rgba(60, 64, 67, 0.15);\n",
              "      fill: #174EA6;\n",
              "    }\n",
              "\n",
              "    [theme=dark] .colab-df-convert {\n",
              "      background-color: #3B4455;\n",
              "      fill: #D2E3FC;\n",
              "    }\n",
              "\n",
              "    [theme=dark] .colab-df-convert:hover {\n",
              "      background-color: #434B5C;\n",
              "      box-shadow: 0px 1px 3px 1px rgba(0, 0, 0, 0.15);\n",
              "      filter: drop-shadow(0px 1px 2px rgba(0, 0, 0, 0.3));\n",
              "      fill: #FFFFFF;\n",
              "    }\n",
              "  </style>\n",
              "\n",
              "      <script>\n",
              "        const buttonEl =\n",
              "          document.querySelector('#df-2eedc326-55ae-491e-afac-369e76445633 button.colab-df-convert');\n",
              "        buttonEl.style.display =\n",
              "          google.colab.kernel.accessAllowed ? 'block' : 'none';\n",
              "\n",
              "        async function convertToInteractive(key) {\n",
              "          const element = document.querySelector('#df-2eedc326-55ae-491e-afac-369e76445633');\n",
              "          const dataTable =\n",
              "            await google.colab.kernel.invokeFunction('convertToInteractive',\n",
              "                                                     [key], {});\n",
              "          if (!dataTable) return;\n",
              "\n",
              "          const docLinkHtml = 'Like what you see? Visit the ' +\n",
              "            '<a target=\"_blank\" href=https://colab.research.google.com/notebooks/data_table.ipynb>data table notebook</a>'\n",
              "            + ' to learn more about interactive tables.';\n",
              "          element.innerHTML = '';\n",
              "          dataTable['output_type'] = 'display_data';\n",
              "          await google.colab.output.renderOutput(dataTable, element);\n",
              "          const docLink = document.createElement('div');\n",
              "          docLink.innerHTML = docLinkHtml;\n",
              "          element.appendChild(docLink);\n",
              "        }\n",
              "      </script>\n",
              "    </div>\n",
              "  </div>\n",
              "  "
            ]
          },
          "metadata": {},
          "execution_count": 15
        }
      ]
    },
    {
      "cell_type": "code",
      "source": [
        "print(Main_Spiral_Train_Data.head(-1))"
      ],
      "metadata": {
        "colab": {
          "base_uri": "https://localhost:8080/"
        },
        "id": "naEaHBRCjHwQ",
        "outputId": "a57f7322-a995-4a2a-c4ea-534e7bb9add7"
      },
      "execution_count": null,
      "outputs": [
        {
          "output_type": "stream",
          "name": "stdout",
          "text": [
            "                                               PNG   CATEGORY\n",
            "0     /content/spiral/training/healthy/V02HE02.png    healthy\n",
            "1     /content/spiral/training/healthy/V55HE06.png    healthy\n",
            "2     /content/spiral/training/healthy/V05HE03.png    healthy\n",
            "3     /content/spiral/training/healthy/V06HE02.png    healthy\n",
            "4     /content/spiral/training/healthy/V55HE09.png    healthy\n",
            "..                                             ...        ...\n",
            "66  /content/spiral/training/parkinson/V07PE03.png  parkinson\n",
            "67  /content/spiral/training/parkinson/V03PE03.png  parkinson\n",
            "68  /content/spiral/training/parkinson/V03PE09.png  parkinson\n",
            "69  /content/spiral/training/parkinson/V12PE02.png  parkinson\n",
            "70  /content/spiral/training/parkinson/V15PE02.png  parkinson\n",
            "\n",
            "[71 rows x 2 columns]\n"
          ]
        }
      ]
    },
    {
      "cell_type": "code",
      "source": [
        "Main_Spiral_Test_Data = pd.concat([Spiral_Test_PNG_Path_Series,Spiral_Test_PNG_Labels_Series],axis=1)"
      ],
      "metadata": {
        "id": "UOlbOguejKUk"
      },
      "execution_count": null,
      "outputs": []
    },
    {
      "cell_type": "code",
      "source": [
        "print(Main_Spiral_Test_Data.head(-1))"
      ],
      "metadata": {
        "colab": {
          "base_uri": "https://localhost:8080/"
        },
        "id": "_9hwYYYxjM6j",
        "outputId": "c02eb2bc-b672-498c-81e3-105a2aa9e0b5"
      },
      "execution_count": null,
      "outputs": [
        {
          "output_type": "stream",
          "name": "stdout",
          "text": [
            "                                              PNG   CATEGORY\n",
            "0     /content/spiral/testing/healthy/V02HE01.png    healthy\n",
            "1     /content/spiral/testing/healthy/V55HE14.png    healthy\n",
            "2     /content/spiral/testing/healthy/V04HE01.png    healthy\n",
            "3     /content/spiral/testing/healthy/V07HE01.png    healthy\n",
            "4     /content/spiral/testing/healthy/V08HE01.png    healthy\n",
            "5     /content/spiral/testing/healthy/V55HE13.png    healthy\n",
            "6     /content/spiral/testing/healthy/V05HE01.png    healthy\n",
            "7     /content/spiral/testing/healthy/V55HE12.png    healthy\n",
            "8     /content/spiral/testing/healthy/V06HE01.png    healthy\n",
            "9     /content/spiral/testing/healthy/V55HE15.png    healthy\n",
            "10    /content/spiral/testing/healthy/V10HE01.png    healthy\n",
            "11    /content/spiral/testing/healthy/V09HE01.png    healthy\n",
            "12    /content/spiral/testing/healthy/V11HE01.png    healthy\n",
            "13    /content/spiral/testing/healthy/V01HE01.png    healthy\n",
            "14     /content/spiral/testing/healthy/V03HE1.png    healthy\n",
            "15  /content/spiral/testing/parkinson/V11PE03.png  parkinson\n",
            "16  /content/spiral/testing/parkinson/V08PE01.png  parkinson\n",
            "17  /content/spiral/testing/parkinson/V05PE01.png  parkinson\n",
            "18  /content/spiral/testing/parkinson/V03PE04.png  parkinson\n",
            "19  /content/spiral/testing/parkinson/V01PE01.png  parkinson\n",
            "20  /content/spiral/testing/parkinson/V02PE01.png  parkinson\n",
            "21  /content/spiral/testing/parkinson/V07PE01.png  parkinson\n",
            "22  /content/spiral/testing/parkinson/V14PE03.png  parkinson\n",
            "23  /content/spiral/testing/parkinson/V10PE03.png  parkinson\n",
            "24  /content/spiral/testing/parkinson/V03PE07.png  parkinson\n",
            "25  /content/spiral/testing/parkinson/V09PE01.png  parkinson\n",
            "26  /content/spiral/testing/parkinson/V03PE01.png  parkinson\n",
            "27  /content/spiral/testing/parkinson/V15PE01.png  parkinson\n",
            "28  /content/spiral/testing/parkinson/V04PE01.png  parkinson\n"
          ]
        }
      ]
    },
    {
      "cell_type": "code",
      "source": [
        "#SHUFFLING\n",
        "Main_Spiral_Train_Data = Main_Spiral_Train_Data.sample(frac=1).reset_index(drop=True)\n",
        "Main_Spiral_Test_Data = Main_Spiral_Test_Data.sample(frac=1).reset_index(drop=True)"
      ],
      "metadata": {
        "id": "k-ACPVe5jPgj"
      },
      "execution_count": null,
      "outputs": []
    },
    {
      "cell_type": "code",
      "source": [
        "#for training\n",
        "Spiral_New_JPG_Path = []\n",
        "for i in range(0,72):\n",
        "    x_train = cv2.imread(Main_Spiral_Train_Data[\"PNG\"][i])\n",
        "    x_train = np.array(x_train).astype(\"float32\")\n",
        "    x_train = x_train.mean()\n",
        "    Spiral_New_JPG_Path.append(x_train)\n",
        "Spiral_New_JPG_Path_Series = pd.Series(Spiral_New_JPG_Path,name=\"PNG\")\n",
        "encode = LabelEncoder()\n",
        "Spiral_New_JPG_Labels = encode.fit_transform(Main_Spiral_Train_Data[\"CATEGORY\"])\n",
        "Spiral_New_JPG_Labels_Series = pd.Series(Spiral_New_JPG_Labels,name=\"CATEGORY\")\n",
        "Main_Spiral_New_Data = pd.concat([Spiral_New_JPG_Path_Series,Spiral_New_JPG_Labels_Series],axis=1) #This is a sequence or mapping of Series, DataFrame, or Panel objects.\n",
        "#TRAIN\n",
        "x_train = Main_Spiral_New_Data[[\"PNG\"]]\n",
        "y_train = Main_Spiral_New_Data[\"CATEGORY\"]"
      ],
      "metadata": {
        "id": "gBVoLFTgjTB9"
      },
      "execution_count": null,
      "outputs": []
    },
    {
      "cell_type": "code",
      "source": [
        "#print(x_train.shape, y_train.shape)"
      ],
      "metadata": {
        "id": "-SusQBI_VCHf"
      },
      "execution_count": null,
      "outputs": []
    },
    {
      "cell_type": "code",
      "source": [
        "##MODELS\n",
        "#from sklearn import svm\n",
        "#import numpy as np\n",
        "#from sklearn.metrics import f1_score\n",
        "#c=svm.SVC(kernel = 'linear',gamma = 'scale', shrinking = False,)\n",
        "#c.fit(x_train,y_train)\n",
        "#predict=c.predict(x_train)"
      ],
      "metadata": {
        "id": "0PQlPJQtVKQv"
      },
      "execution_count": null,
      "outputs": []
    },
    {
      "cell_type": "code",
      "source": [
        "#R2CV = cross_val_score(c,x_train,np.array(y_train),verbose=False).mean()\n",
        "#error = -cross_val_score(c,x_train,y_train,scoring=\"neg_mean_squared_error\",verbose=False).mean()\n",
        "#print(\"ACCURACY-->\",accuracy_score(y_train,predict))\n",
        "#print(\"R2CV-->\",R2CV*100) #cross validations\n",
        "#print(\"MEAN SQUARED ERROR-->\",np.sqrt(error))#mse\n",
        "#print(\"F1 score-->\",f1_score(y_train,predict))\n",
        "#print(\"-\" * 30)"
      ],
      "metadata": {
        "id": "aKFCJNbFVbyK"
      },
      "execution_count": null,
      "outputs": []
    },
    {
      "cell_type": "code",
      "source": [
        "#for testing\n",
        "Spiral_New_JPG_Path = []\n",
        "for i in range(0,30):\n",
        "    x_test = cv2.imread(Main_Spiral_Test_Data[\"PNG\"][i])\n",
        "    x_test = np.array(x_test).astype(\"float32\")\n",
        "    x_test = x_test.mean()\n",
        "    Spiral_New_JPG_Path.append(x_test)\n",
        "Spiral_New_JPG_Path_Series = pd.Series(Spiral_New_JPG_Path,name=\"PNG\")\n",
        "encode = LabelEncoder()\n",
        "Spiral_New_JPG_Labels = encode.fit_transform(Main_Spiral_Test_Data[\"CATEGORY\"])\n",
        "Spiral_New_JPG_Labels_Series = pd.Series(Spiral_New_JPG_Labels,name=\"CATEGORY\")\n",
        "Main_Spiral_New_Data = pd.concat([Spiral_New_JPG_Path_Series,Spiral_New_JPG_Labels_Series],axis=1)\n",
        "#TEST\n",
        "x_test = Main_Spiral_New_Data[[\"PNG\"]]\n",
        "y_test = Main_Spiral_New_Data[\"CATEGORY\"]"
      ],
      "metadata": {
        "id": "bdjkeUBKjWi-"
      },
      "execution_count": null,
      "outputs": []
    },
    {
      "cell_type": "code",
      "source": [
        "#print(x_test.shape, y_test.shape)"
      ],
      "metadata": {
        "id": "0aOmFe0EZmzB"
      },
      "execution_count": null,
      "outputs": []
    },
    {
      "cell_type": "code",
      "source": [
        "#MODELS\n",
        "#from sklearn import svm\n",
        "#import numpy as np\n",
        "#from sklearn.metrics import f1_score\n",
        "#c=svm.SVC(kernel = 'linear',gamma = 'scale', shrinking = False,)\n",
        "#c.fit(x_test,y_test)\n",
        "#predict=c.predict(x_test)"
      ],
      "metadata": {
        "id": "vRbyHwS7Zw1R"
      },
      "execution_count": null,
      "outputs": []
    },
    {
      "cell_type": "code",
      "source": [
        "#R2CV = cross_val_score(c,x_test,np.array(y_test),verbose=False).mean()\n",
        "#error = -cross_val_score(c,x_test,y_test,scoring=\"neg_mean_squared_error\",verbose=False).mean()\n",
        "#print(\"ACCURACY-->\",accuracy_score(y_test,predict))\n",
        "#print(\"R2CV-->\",R2CV*100) #cross validations\n",
        "##print(\"MEAN SQUARED ERROR-->\",np.sqrt(error))#mse\n",
        "#print(\"F1 score-->\",f1_score(y_test,predict))\n",
        "#print(\"-\" * 30)"
      ],
      "metadata": {
        "id": "yGbanPjTZ6So"
      },
      "execution_count": null,
      "outputs": []
    },
    {
      "cell_type": "code",
      "source": [
        "print(x_train.shape, y_train.shape, x_test.shape, y_test.shape)"
      ],
      "metadata": {
        "colab": {
          "base_uri": "https://localhost:8080/"
        },
        "id": "TYhRH9zSjZcE",
        "outputId": "e09f2c6f-5190-4349-a594-225e52c7ade5"
      },
      "execution_count": null,
      "outputs": [
        {
          "output_type": "stream",
          "name": "stdout",
          "text": [
            "(72, 1) (72,) (30, 1) (30,)\n"
          ]
        }
      ]
    },
    {
      "cell_type": "code",
      "source": [
        "#MODELS\n",
        "from sklearn import svm\n",
        "import numpy as np\n",
        "from sklearn.metrics import f1_score\n",
        "c=svm.SVC(kernel = 'linear',gamma = 'scale', shrinking = False,)\n",
        "c.fit(x_train,y_train)\n",
        "predict=c.predict(x_test)"
      ],
      "metadata": {
        "id": "ckdtg50yjb8o"
      },
      "execution_count": null,
      "outputs": []
    },
    {
      "cell_type": "code",
      "source": [
        "R2CV = cross_val_score(c,x_test,np.array(y_test),verbose=False).mean()\n",
        "error = -cross_val_score(c,x_test,y_test,scoring=\"neg_mean_squared_error\",verbose=False).mean()\n",
        "print(\"ACCURACY-->\",accuracy_score(y_test,predict))\n",
        "print(\"R2CV-->\",R2CV*100) #cross validations\n",
        "print(\"MEAN SQUARED ERROR-->\",np.sqrt(error))#mse\n",
        "print(\"F1 score-->\",f1_score(y_test,predict))\n",
        "print(\"-\" * 30)"
      ],
      "metadata": {
        "colab": {
          "base_uri": "https://localhost:8080/"
        },
        "id": "rquGkOKDjehC",
        "outputId": "76b50aa8-276c-415c-a414-5278615ef758"
      },
      "execution_count": null,
      "outputs": [
        {
          "output_type": "stream",
          "name": "stdout",
          "text": [
            "ACCURACY--> 0.5666666666666667\n",
            "R2CV--> 56.666666666666664\n",
            "MEAN SQUARED ERROR--> 0.6582805886043833\n",
            "F1 score--> 0.5517241379310344\n",
            "------------------------------\n"
          ]
        }
      ]
    }
  ]
}